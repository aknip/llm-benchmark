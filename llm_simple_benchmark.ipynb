{
  "nbformat": 4,
  "nbformat_minor": 0,
  "metadata": {
    "colab": {
      "provenance": [],
      "authorship_tag": "ABX9TyOBuUTZw4xODTEGk3EacGfw",
      "include_colab_link": true
    },
    "kernelspec": {
      "name": "python3",
      "display_name": "Python 3"
    },
    "language_info": {
      "name": "python"
    }
  },
  "cells": [
    {
      "cell_type": "markdown",
      "metadata": {
        "id": "view-in-github",
        "colab_type": "text"
      },
      "source": [
        "<a href=\"https://colab.research.google.com/github/aknip/llm-benchmark/blob/main/llm_simple_benchmark.ipynb\" target=\"_parent\"><img src=\"https://colab.research.google.com/assets/colab-badge.svg\" alt=\"Open In Colab\"/></a>"
      ]
    },
    {
      "cell_type": "code",
      "execution_count": null,
      "metadata": {
        "id": "0O1ck0sc0m2v"
      },
      "outputs": [],
      "source": [
        "!pip install pandas openpyxl xlsxwriter"
      ]
    },
    {
      "cell_type": "markdown",
      "source": [],
      "metadata": {
        "id": "yYIZCrub1x1m"
      }
    },
    {
      "cell_type": "code",
      "source": [
        "import pandas as pd\n",
        "\n",
        "def read_and_process_excel(file_path):\n",
        "    # Read the Excel file into a Pandas DataFrame\n",
        "    df = pd.read_excel(file_path)\n",
        "\n",
        "    # Loop through the DataFrame and print names and phone numbers\n",
        "    for index, row in df.iterrows():\n",
        "        name = row['name']  # Assuming the column for names is labeled 'name'\n",
        "        phone_number = row['phone number']  # Assuming the column for phone numbers is labeled 'phone number'\n",
        "        print(f\"{name}, {phone_number}\")\n",
        "\n",
        "# Replace 'your_file.xlsx' with the path to your Excel file\n",
        "file_path = 'your_file.xlsx'\n",
        "read_and_process_excel(file_path)"
      ],
      "metadata": {
        "id": "MCZOJA0I0tvk"
      },
      "execution_count": null,
      "outputs": []
    },
    {
      "cell_type": "code",
      "source": [
        "import xlsxwriter\n",
        "\n",
        "# Create a workbook and add a worksheet.\n",
        "workbook = xlsxwriter.Workbook('Expenses01.xlsx')\n",
        "worksheet = workbook.add_worksheet()\n",
        "\n",
        "# Some data we want to write to the worksheet.\n",
        "expenses = (\n",
        "    ['Rent', 1000],\n",
        "    ['Gas',   100],\n",
        "    ['Food',  300],\n",
        "    ['Gym',    50],\n",
        ")\n",
        "\n",
        "# Start from the first cell. Rows and columns are zero indexed.\n",
        "row = 0\n",
        "col = 0\n",
        "\n",
        "# Iterate over the data and write it out row by row.\n",
        "for item, cost in (expenses):\n",
        "    worksheet.write(row, col,     item)\n",
        "    worksheet.write(row, col + 1, cost)\n",
        "    row += 1\n",
        "\n",
        "# Write a total using a formula.\n",
        "worksheet.write(row, 0, 'Total')\n",
        "worksheet.write(row, 1, '=SUM(B1:B4)')\n",
        "\n",
        "workbook.close()"
      ],
      "metadata": {
        "id": "Td-VGnH8uqdX"
      },
      "execution_count": 4,
      "outputs": []
    },
    {
      "cell_type": "code",
      "source": [
        "import pandas as pd\n",
        "import xlsxwriter\n",
        "\n",
        "# Create a Pandas dataframe from the data.\n",
        "df = pd.DataFrame({'Data': [10, 20, 30, 20, 15, 30, 45]})\n",
        "\n",
        "# Create a Pandas Excel writer using XlsxWriter as the engine.\n",
        "writer = pd.ExcelWriter('pandas_simple.xlsx', engine='xlsxwriter')\n",
        "\n",
        "# Convert the dataframe to an XlsxWriter Excel object.\n",
        "df.to_excel(writer, sheet_name='Sheet1')\n",
        "\n",
        "# Get the xlsxwriter objects from the dataframe writer object.\n",
        "workbook  = writer.book\n",
        "worksheet = writer.sheets['Sheet1']\n",
        "\n",
        "# This is equivalent to the following code when using XlsxWriter on its own:\n",
        "#    workbook  = xlsxwriter.Workbook('filename.xlsx')\n",
        "#    worksheet = workbook.add_worksheet()\n",
        "\n",
        "# Create a chart object.\n",
        "chart = workbook.add_chart({'type': 'column'})\n",
        "\n",
        "# Get the dimensions of the dataframe.\n",
        "(max_row, max_col) = df.shape\n",
        "\n",
        "# Configure the series of the chart from the dataframe data.\n",
        "chart.add_series({'values': ['Sheet1', 1, 1, max_row, 1]})\n",
        "\n",
        "# Insert the chart into the worksheet.\n",
        "worksheet.insert_chart(1, 3, chart)\n",
        "\n",
        "# Close and output the Excel file.\n",
        "workbook.close()"
      ],
      "metadata": {
        "id": "WAU6t7jXvrFd"
      },
      "execution_count": 9,
      "outputs": []
    }
  ]
}