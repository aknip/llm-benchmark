{
  "nbformat": 4,
  "nbformat_minor": 0,
  "metadata": {
    "colab": {
      "provenance": [],
      "authorship_tag": "ABX9TyMkv4TJKfXTrqxkF+Q9mdPz",
      "include_colab_link": true
    },
    "kernelspec": {
      "name": "python3",
      "display_name": "Python 3"
    },
    "language_info": {
      "name": "python"
    }
  },
  "cells": [
    {
      "cell_type": "markdown",
      "metadata": {
        "id": "view-in-github",
        "colab_type": "text"
      },
      "source": [
        "<a href=\"https://colab.research.google.com/github/aknip/llm-benchmark/blob/main/llm_simple_benchmark.ipynb\" target=\"_parent\"><img src=\"https://colab.research.google.com/assets/colab-badge.svg\" alt=\"Open In Colab\"/></a>"
      ]
    },
    {
      "cell_type": "markdown",
      "source": [
        "see https://www.philschmid.de/evaluate-llm"
      ],
      "metadata": {
        "id": "ZgzeLGyl1IQc"
      }
    },
    {
      "cell_type": "code",
      "execution_count": null,
      "metadata": {
        "colab": {
          "base_uri": "https://localhost:8080/"
        },
        "id": "0O1ck0sc0m2v",
        "outputId": "e0bbe70e-6bcd-4cce-8c24-4e6c1f75293a"
      },
      "outputs": [
        {
          "output_type": "stream",
          "name": "stdout",
          "text": [
            "Requirement already satisfied: pandas in /usr/local/lib/python3.10/dist-packages (1.5.3)\n",
            "Requirement already satisfied: openpyxl in /usr/local/lib/python3.10/dist-packages (3.1.2)\n",
            "Requirement already satisfied: python-dateutil>=2.8.1 in /usr/local/lib/python3.10/dist-packages (from pandas) (2.8.2)\n",
            "Requirement already satisfied: pytz>=2020.1 in /usr/local/lib/python3.10/dist-packages (from pandas) (2023.3.post1)\n",
            "Requirement already satisfied: numpy>=1.21.0 in /usr/local/lib/python3.10/dist-packages (from pandas) (1.23.5)\n",
            "Requirement already satisfied: et-xmlfile in /usr/local/lib/python3.10/dist-packages (from openpyxl) (1.1.0)\n",
            "Requirement already satisfied: six>=1.5 in /usr/local/lib/python3.10/dist-packages (from python-dateutil>=2.8.1->pandas) (1.16.0)\n"
          ]
        }
      ],
      "source": [
        "!pip install pandas openpyxl"
      ]
    },
    {
      "cell_type": "code",
      "source": [
        "import pandas as pd\n",
        "\n",
        "def read_and_process_excel(file_path):\n",
        "    # Read the Excel file into a Pandas DataFrame\n",
        "    df = pd.read_excel(file_path)\n",
        "\n",
        "    # Loop through the DataFrame and print names and phone numbers\n",
        "    for index, row in df.iterrows():\n",
        "        name = row['name']  # Assuming the column for names is labeled 'name'\n",
        "        phone_number = row['phone number']  # Assuming the column for phone numbers is labeled 'phone number'\n",
        "        print(f\"{name}, {phone_number}\")\n",
        "\n",
        "# Replace 'your_file.xlsx' with the path to your Excel file\n",
        "file_path = 'your_file.xlsx'\n",
        "read_and_process_excel(file_path)"
      ],
      "metadata": {
        "id": "MCZOJA0I0tvk"
      },
      "execution_count": null,
      "outputs": []
    }
  ]
}